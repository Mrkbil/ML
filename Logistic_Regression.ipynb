{
  "nbformat": 4,
  "nbformat_minor": 0,
  "metadata": {
    "colab": {
      "provenance": []
    },
    "kernelspec": {
      "name": "python3",
      "display_name": "Python 3"
    },
    "language_info": {
      "name": "python"
    }
  },
  "cells": [
    {
      "cell_type": "code",
      "execution_count": 2,
      "metadata": {
        "id": "p4XAAeqCEGsA"
      },
      "outputs": [],
      "source": [
        "import numpy as np\n",
        "import matplotlib.pyplot as plt"
      ]
    },
    {
      "cell_type": "code",
      "source": [
        "x_train = np.array([[0.5, 1.5], [1,1], [1.5, 0.5], [3, 0.5], [2, 2], [1, 2.5]])  #(m,n)\n",
        "y_train = np.array([0, 0, 0, 1, 1, 1])\n",
        "m=x_train.shape[0]\n",
        "for i in range(m):\n",
        "  if y_train[i]==1:\n",
        "    plt.scatter(x_train[i,0],x_train[i,1],c='b')\n",
        "  else:\n",
        "    plt.scatter(x_train[i,0],x_train[i,1],c='r')\n",
        "plt.show()                                        #(m,)"
      ],
      "metadata": {
        "colab": {
          "base_uri": "https://localhost:8080/",
          "height": 265
        },
        "id": "C62lron5FPlI",
        "outputId": "76077f96-46bf-4a3c-f218-28f172e9f6a5"
      },
      "execution_count": 3,
      "outputs": [
        {
          "output_type": "display_data",
          "data": {
            "text/plain": [
              "<Figure size 432x288 with 1 Axes>"
            ],
            "image/png": "[encoded data removed]"
          },
          "metadata": {
            "needs_background": "light"
          }
        }
      ]
    },
    {
      "cell_type": "code",
      "source": [
        "def sigmoid(z):\n",
        "  return 1/(1+np.e**-z)"
      ],
      "metadata": {
        "id": "6Iemed9Usevy"
      },
      "execution_count": 35,
      "outputs": []
    },
    {
      "cell_type": "code",
      "source": [
        "def compute_output(x,w,b):\n",
        "  m=x.shape[0]\n",
        "  n=x.shape[1]\n",
        "  z=np.dot(x,w)+b\n",
        "  f_wb=sigmoid(z)\n",
        "  return f_wb"
      ],
      "metadata": {
        "id": "bTopvoSFHZai"
      },
      "execution_count": 36,
      "outputs": []
    },
    {
      "cell_type": "code",
      "source": [
        "def logistic_loss(x,y,w,b):\n",
        "  m=x.shape[0]\n",
        "  f_wb=compute_output(x,w,b)\n",
        "  loss=0\n",
        "  for i in range(m):\n",
        "    loss+= -y[i]*np.log(f_wb[i]) - (1-y[i])*np.log(1-f_wb[i])\n",
        "  return loss/m"
      ],
      "metadata": {
        "id": "E0gx7QZlsYF6"
      },
      "execution_count": 177,
      "outputs": []
    },
    {
      "cell_type": "code",
      "source": [
        "def compute_gradient(x,y,w,b):\n",
        "  m,n=x.shape\n",
        "  f=compute_output(x,w,b)\n",
        "  dj_dw=np.zeros((n,))\n",
        "  dj_db=0\n",
        "  for i in range(m):\n",
        "    error=f[i]-y[i]\n",
        "    for j in range(n):\n",
        "      dj_dw[j]+=error*x[i,j]\n",
        "    dj_db+=error\n",
        "  return dj_dw/m,dj_db/m"
      ],
      "metadata": {
        "id": "yWpd-TFBxBlj"
      },
      "execution_count": 178,
      "outputs": []
    },
    {
      "cell_type": "code",
      "source": [
        "def gradient_descent(x,y,iter,alpha):\n",
        "  global w,b\n",
        "  m,n=x.shape\n",
        "  it=np.zeros(shape=[iter])\n",
        "  cst=np.zeros(shape=[iter])\n",
        "  for i in range(iter):\n",
        "    dw,db=compute_gradient(x,y,w,b)\n",
        "    it[i]=i\n",
        "    cst[i]=logistic_loss(x,y,w,b)\n",
        "    for j in range(n):\n",
        "      w[j]=w[j]-alpha*dw[j]\n",
        "    b=b-alpha*db\n",
        "  plt.plot(it,cst)\n",
        "  plt.show()"
      ],
      "metadata": {
        "id": "I9xztLg0zG0_"
      },
      "execution_count": 210,
      "outputs": []
    },
    {
      "cell_type": "code",
      "source": [
        "w=np.array([[2.],[3.]])\n",
        "b=np.array([[1.]])\n",
        "print(w.shape,b.shape)\n",
        "f_wb=compute_output(x_train,w,b)\n",
        "cost=logistic_loss(x_train,y_train,w,b)\n",
        "print(f_wb,cost)\n",
        "print(compute_gradient(x_train,y_train,w,b))\n",
        "gradient_descent(x_train,y_train,10000,0.1)\n",
        "print(w,b)\n",
        "f_wb=compute_output(x_train,w,b)\n",
        "cost=logistic_loss(x_train,y_train,w,b)\n",
        "print(f_wb,cost)\n"
      ],
      "metadata": {
        "colab": {
          "base_uri": "https://localhost:8080/",
          "height": 543
        },
        "id": "zhzriG4MHyLL",
        "outputId": "72899b86-e7e1-4081-8eaf-3529789a5757"
      },
      "execution_count": 212,
      "outputs": [
        {
          "output_type": "stream",
          "name": "stdout",
          "text": [
            "(2, 1) (1, 1)\n",
            "[[0.99849882]\n",
            " [0.99752738]\n",
            " [0.99592986]\n",
            " [0.99979657]\n",
            " [0.9999833 ]\n",
            " [0.99997246]] [3.00138402]\n",
            "(array([0.49833339, 0.49883943]), array([0.49861807]))\n"
          ]
        },
        {
          "output_type": "display_data",
          "data": {
            "text/plain": [
              "<Figure size 432x288 with 1 Axes>"
            ],
            "image/png": "[encoded data removed]"
          },
          "metadata": {
            "needs_background": "light"
          }
        },
        {
          "output_type": "stream",
          "name": "stdout",
          "text": [
            "[[5.28976498]\n",
            " [5.08670859]] [[-14.24600215]]\n",
            "[[0.01850462]\n",
            " [0.02044162]\n",
            " [0.02257672]\n",
            " [0.98473255]\n",
            " [0.99850919]\n",
            " [0.97725793]] [0.01700811]\n"
          ]
        }
      ]
    }
  ]
}